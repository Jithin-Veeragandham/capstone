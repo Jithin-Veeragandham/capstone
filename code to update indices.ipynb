{
 "cells": [
  {
   "cell_type": "code",
   "execution_count": 2,
   "metadata": {},
   "outputs": [],
   "source": [
    "# 1. Mapping Original Classes to Indices:\n",
    "\n",
    "original_classes = [\n",
    "    \"umbrella\", \"person\", \"dog\", \"horse\", \"potted plant\", \"elephant\", \"car\",\n",
    "    \"truck\", \"stop sign\", \"clock\", \"train\", \"motorcycle\", \"bicycle\", \"skateboard\",\n",
    "    \"handbag\", \"bench\", \"chair\", \"fork\", \"knife\", \"pizza\", \"dining table\", \"cup\",\n",
    "    \"cake\", \"spoon\", \"book\", \"giraffe\", \"kite\", \"tie\", \"scissors\", \"baseball bat\",\n",
    "    \"snowboard\", \"bottle\", \"couch\", \"remote\", \"airplane\", \"traffic light\", \"backpack\",\n",
    "    \"bus\", \"suitcase\", \"microwave\", \"frisbee\", \"wine glass\", \"teddy bear\", \"cell phone\",\n",
    "    \"refrigerator\", \"oven\", \"baseball glove\", \"sports ball\", \"broccoli\", \"skis\", \"boat\",\n",
    "    \"tennis racket\", \"donut\", \"cat\", \"bird\", \"surfboard\", \"bed\", \"toothbrush\", \"vase\",\n",
    "    \"tv\", \"laptop\", \"mouse\", \"bowl\", \"sandwich\", \"hot dog\", \"parking meter\", \"fire hydrant\",\n",
    "    \"banana\", \"orange\", \"cow\", \"sink\", \"carrot\", \"sheep\", \"apple\", \"toilet\", \"keyboard\",\n",
    "    \"zebra\", \"hair drier\", \"bear\", \"toaster\"\n",
    "]\n",
    "\n",
    "# Dictionary that maps class names to their indices\n",
    "original_mapping = {cls: idx for idx, cls in enumerate(original_classes)}\n",
    "\n",
    "# 2. Mapping Selected Classes to New Indices:\n",
    "\n",
    "selected_classes = [\"person\", \"car\", \"truck\", \"bicycle\", \"motorcycle\", \"cat\", \"dog\"]\n",
    "new_mapping = {cls: idx for idx, cls in enumerate(selected_classes)}"
   ]
  },
  {
   "cell_type": "code",
   "execution_count": null,
   "metadata": {},
   "outputs": [],
   "source": [
    "import os\n",
    "\n",
    "data_directory = \"C:\\\\Users\\\\jithi\\\\OneDrive\\\\Desktop\\\\VsCode\\\\coco\\\\data\"\n",
    "\n",
    "# Iterate through each file in the data directory\n",
    "for filename in os.listdir(data_directory):\n",
    "    filepath = os.path.join(data_directory, filename)\n",
    "    \n",
    "    if filepath.endswith(\".txt\"):\n",
    "        with open(filepath, \"r\") as file:\n",
    "            lines = file.readlines()\n",
    "\n",
    "        updated_lines = []\n",
    "        for line in lines:\n",
    "            parts = line.strip().split()\n",
    "            class_idx = int(parts[0])\n",
    "            class_name = original_classes[class_idx]\n",
    "\n",
    "            # If this class is one of our selected classes, update its index\n",
    "            if class_name in new_mapping:\n",
    "                new_idx = new_mapping[class_name]\n",
    "                updated_lines.append(f\"{new_idx} {' '.join(parts[1:])}\\n\")\n",
    "\n",
    "        # Save the updated lines back to the file\n",
    "        with open(filepath, \"w\") as file:\n",
    "            file.writelines(updated_lines)\n"
   ]
  }
 ],
 "metadata": {
  "kernelspec": {
   "display_name": "tensorflow_OIIO",
   "language": "python",
   "name": "python3"
  },
  "language_info": {
   "codemirror_mode": {
    "name": "ipython",
    "version": 3
   },
   "file_extension": ".py",
   "mimetype": "text/x-python",
   "name": "python",
   "nbconvert_exporter": "python",
   "pygments_lexer": "ipython3",
   "version": "3.9.13"
  },
  "orig_nbformat": 4
 },
 "nbformat": 4,
 "nbformat_minor": 2
}
