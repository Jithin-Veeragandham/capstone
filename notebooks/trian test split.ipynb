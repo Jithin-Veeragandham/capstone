{
 "cells": [
  {
   "cell_type": "code",
   "execution_count": 1,
   "metadata": {},
   "outputs": [],
   "source": [
    "train_path_img = \"C:\\\\Users\\\\jithi\\\\OneDrive\\\\Desktop\\\\VsCode\\\\coco_split\\\\images\\\\train\"\n",
    "train_path_label = \"C:\\\\Users\\\\jithi\\\\OneDrive\\\\Desktop\\\\VsCode\\\\coco_split\\\\labels\\\\train\"\n",
    "val_path_img = \"C:\\\\Users\\\\jithi\\\\OneDrive\\\\Desktop\\\\VsCode\\\\coco_split\\\\images\\\\val\"\n",
    "val_path_label = \"C:\\\\Users\\\\jithi\\\\OneDrive\\\\Desktop\\\\VsCode\\\\coco_split\\\\labels\\\\val\"\n"
   ]
  },
  {
   "cell_type": "code",
   "execution_count": 2,
   "metadata": {},
   "outputs": [],
   "source": [
    "import os\n",
    "import os\n",
    "import shutil\n",
    "import random\n",
    "from tqdm import tqdm"
   ]
  },
  {
   "cell_type": "code",
   "execution_count": 3,
   "metadata": {},
   "outputs": [
    {
     "name": "stdout",
     "output_type": "stream",
     "text": [
      "------ PROCESS STARTED -------\n",
      "--- This folder has a total number of 74811 images---\n"
     ]
    },
    {
     "name": "stderr",
     "output_type": "stream",
     "text": [
      "100%|██████████| 59849/59849 [09:28<00:00, 105.35it/s]\n"
     ]
    },
    {
     "name": "stdout",
     "output_type": "stream",
     "text": [
      "------ Training data created with 80% split 59849 images -------\n"
     ]
    },
    {
     "name": "stderr",
     "output_type": "stream",
     "text": [
      "100%|██████████| 14962/14962 [02:23<00:00, 104.48it/s]"
     ]
    },
    {
     "name": "stdout",
     "output_type": "stream",
     "text": [
      "------ Testing data created with a total of 14962 images ----------\n",
      "------ TASK COMPLETED -------\n"
     ]
    },
    {
     "name": "stderr",
     "output_type": "stream",
     "text": [
      "\n"
     ]
    }
   ],
   "source": [
    "def train_test_split(path,neg_path=None, split = 0.2):\n",
    "    print(\"------ PROCESS STARTED -------\")\n",
    "\n",
    "    files = list(set([name[:-4] for name in os.listdir(path)])) ## removing duplicate names i.e. counting only number of images\n",
    "\n",
    "    print (f\"--- This folder has a total number of {len(files)} images---\")\n",
    "    random.seed(42)\n",
    "    random.shuffle(files)\n",
    "\n",
    "    test_size = int(len(files) * split)\n",
    "    train_size = len(files) - test_size\n",
    "\n",
    "    ## creating required directories\n",
    "\n",
    "    os.makedirs(train_path_img, exist_ok = True)\n",
    "    os.makedirs(train_path_label, exist_ok = True)\n",
    "    os.makedirs(val_path_img, exist_ok = True)\n",
    "    os.makedirs(val_path_label, exist_ok = True)\n",
    "\n",
    "\n",
    "    ### ----------- copying images to train folder\n",
    "    for filex in tqdm(files[:train_size]):\n",
    "      if filex == 'classes':\n",
    "          continue\n",
    "      shutil.copy2(path + filex + '.jpg',f\"{train_path_img}/\" + filex + '.jpg' )\n",
    "      shutil.copy2(path + filex + '.txt', f\"{train_path_label}/\" + filex + '.txt')\n",
    "\n",
    "\n",
    "\n",
    "    print(f\"------ Training data created with 80% split {len(files[:train_size])} images -------\")\n",
    "\n",
    "    if neg_path:\n",
    "        neg_images = list(set([name[:-4] for name in os.listdir(neg_path)])) ## removing duplicate names i.e. counting only number of images\n",
    "        for filex in tqdm(neg_images):\n",
    "            shutil.copy2(neg_path+filex+ \".jpg\", f\"{train_path_img}/\" + filex + '.jpg')\n",
    "\n",
    "        print(f\"------ Total  {len(neg_images)} negative images added to the training data -------\")\n",
    "\n",
    "        print(f\"------ TOTAL Training data created with {len(files[:train_size]) + len(neg_images)} images -------\")\n",
    "\n",
    "\n",
    "\n",
    "    for filex in tqdm(files[train_size:]):\n",
    "      if filex == 'classes':\n",
    "          continue\n",
    "      shutil.copy2(path + filex + '.jpg', f\"{val_path_img}/\" + filex + '.jpg' )\n",
    "      shutil.copy2(path + filex + '.txt', f\"{val_path_label}/\" + filex + '.txt')\n",
    "\n",
    "    print(f\"------ Testing data created with a total of {len(files[train_size:])} images ----------\")\n",
    "\n",
    "    print(\"------ TASK COMPLETED -------\")\n",
    "\n",
    "\n",
    "train_test_split('C:\\\\Users\\\\jithi\\\\OneDrive\\\\Desktop\\\\VsCode\\\\coco\\\\data\\\\') ### without negative images\n"
   ]
  }
 ],
 "metadata": {
  "kernelspec": {
   "display_name": "tensorflow_OIIO",
   "language": "python",
   "name": "python3"
  },
  "language_info": {
   "codemirror_mode": {
    "name": "ipython",
    "version": 3
   },
   "file_extension": ".py",
   "mimetype": "text/x-python",
   "name": "python",
   "nbconvert_exporter": "python",
   "pygments_lexer": "ipython3",
   "version": "3.9.13"
  },
  "orig_nbformat": 4
 },
 "nbformat": 4,
 "nbformat_minor": 2
}
